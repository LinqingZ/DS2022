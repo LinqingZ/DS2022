{
  "cells": [
    {
      "cell_type": "markdown",
      "metadata": {
        "id": "zndGg0rNFH7b"
      },
      "source": [
        "<div style=\"background: #000;\n",
        "            color: #FFF;\n",
        "            margin: 0px;\n",
        "                padding: 10px 0px 20px 0px;\n",
        "            text-align: center; \n",
        "                \">\n",
        "    <h1>Week 8 - Lab 1</h1>\n",
        "</div>"
      ]
    },
    {
      "cell_type": "markdown",
      "metadata": {
        "id": "_no9KBSAFH7e"
      },
      "source": [
        "# Question 1\n",
        "\n",
        "What is the use of read() function in Python? Why it is important?"
      ]
    },
    {
      "cell_type": "markdown",
      "metadata": {},
      "source": [
        "The read() method returns the specified number of bytes from the file. Default is -1 which means the whole file. read(): Returns the read bytes in form of a string. Reads n bytes, if no n specified, reads the entire file. It is important that if we want to know the size of the file or wants to read the file and it takes care of closing the file for you. \n",
        "'r'\tOpen for text file for reading text\n",
        "'w'\tOpen a text file for writing text\n",
        "'a'\tOpen a text file for appending text\n"
      ]
    },
    {
      "cell_type": "markdown",
      "metadata": {
        "id": "KV1pFuS8FH7e"
      },
      "source": [
        "# Exercise 1\n",
        "\n",
        "Create a txt file (file extention .txt) and title it reading_python.ipynb. In the txt file, write: \"It's time to read in python!\".\n",
        "\n",
        "Open the txt file in Visual Studio Code using read() .\n",
        "\n",
        "Insert that screenshot below showing you were successful:"
      ]
    },
    {
      "cell_type": "code",
      "execution_count": 1,
      "metadata": {},
      "outputs": [
        {
          "name": "stdout",
          "output_type": "stream",
          "text": [
            "[\"It's time to read in python!\"]\n"
          ]
        }
      ],
      "source": [
        "with open('file_extention.txt') as f:\n",
        "    lines = f.readlines()\n",
        "    print(lines)\n"
      ]
    },
    {
      "cell_type": "markdown",
      "metadata": {
        "id": "fzpO6jPxFH7f"
      },
      "source": [
        "# Exercise 2\n",
        "\n",
        "From the helloworld.html file from the lesson, use Python to update the webpage to display an image of your choice. Upload your code and a screenshot of your updated webpage.\n",
        "\n"
      ]
    },
    {
      "cell_type": "code",
      "execution_count": 17,
      "metadata": {
        "id": "GaJ9r_AO7ANd"
      },
      "outputs": [
        {
          "data": {
            "text/plain": [
              "True"
            ]
          },
          "execution_count": 17,
          "metadata": {},
          "output_type": "execute_result"
        }
      ],
      "source": [
        "import webbrowser\n",
        "\n",
        "var_1 = open(\"helloword.html\",'w')\n",
        "file_content = \"\"\" \n",
        "<html>\n",
        "   <head></head>\n",
        "<body>\n",
        "     <p> \"hello world\" </p>\n",
        "     <img src=dog.webp alt=\"Image\" height=\"400\" width=\"900\"></img>\n",
        "</body>\n",
        "</html>\n",
        "\"\"\"\n",
        "\n",
        "var_1.write(file_content)\n",
        "var_1.close()\n",
        "webbrowser.open_new_tab(\"helloword.html\")\n"
      ]
    },
    {
      "cell_type": "code",
      "execution_count": null,
      "metadata": {},
      "outputs": [],
      "source": [
        "\"hello world\""
      ]
    },
    {
      "cell_type": "markdown",
      "metadata": {
        "id": "QtFmSH8zIP4z"
      },
      "source": [
        "### **Bonus**\n",
        "\n",
        "---\n",
        "\n",
        "\n",
        "when using the open() function/parameters what are the 6 available file mode's that can be used? please give a  brief description of what these modes do.\n",
        "\n",
        "\n"
      ]
    },
    {
      "cell_type": "markdown",
      "metadata": {},
      "source": [
        "The open() function opens a file, and returns it as a file object.\n",
        "open(file, mode)   [[ file-->\tThe path and name of the file   mode-->\tA string, define which mode you want to open the file in:\n",
        "\n",
        "\"r\" - Read - Default value. Opens a file for reading, error if the file does not exist\n",
        "\n",
        "\"a\" - Append - Opens a file for appending, creates the file if it does not exist\n",
        "\n",
        "\"w\" - Write - Opens a file for writing, creates the file if it does not exist\n",
        "\n",
        "\"x\" - Create - Creates the specified file, returns an error if the file exist\n",
        "\n",
        "\"t\" - Text - Default value. Text mode\n",
        "\n",
        "\"b\" - Binary - Binary mode (e.g. images) ]]"
      ]
    }
  ],
  "metadata": {
    "colab": {
      "collapsed_sections": [],
      "name": "week-08-class-01-lab.ipynb",
      "provenance": []
    },
    "interpreter": {
      "hash": "9386cb60cf22cf10c4a4b8d8aaf5613a1e19924e3b8b77c246876dc6579ff7fe"
    },
    "kernelspec": {
      "display_name": "Python 3.9.5 64-bit",
      "name": "python3"
    },
    "language_info": {
      "codemirror_mode": {
        "name": "ipython",
        "version": 3
      },
      "file_extension": ".py",
      "mimetype": "text/x-python",
      "name": "python",
      "nbconvert_exporter": "python",
      "pygments_lexer": "ipython3",
      "version": "3.9.5"
    }
  },
  "nbformat": 4,
  "nbformat_minor": 0
}

{
 "cells": [
  {
   "cell_type": "markdown",
   "metadata": {},
   "source": [
    "<div style=\"background: #000;\n",
    "            color: #FFF;\n",
    "            margin: 0px;\n",
    "                padding: 10px 0px 20px 0px;\n",
    "            text-align: center; \n",
    "                \">\n",
    "    <h1>Week 8 - Lab</h1>\n",
    "</div>\n"
   ]
  },
  {
   "cell_type": "markdown",
   "metadata": {},
   "source": [
    "# Exercise 1\n",
    "\n",
    "Create a class called `Person`.\n",
    "Make an attribute for the class called `x` and set it equal to 5.\n",
    "\n",
    "Create an instance of the `Person` class.\n",
    "Print out the `x` attribute of the instance."
   ]
  },
  {
   "cell_type": "code",
   "execution_count": 2,
   "metadata": {},
   "outputs": [
    {
     "name": "stdout",
     "output_type": "stream",
     "text": [
      "5\n"
     ]
    }
   ],
   "source": [
    "class Person():\n",
    "    x=5\n",
    "\n",
    "person1=Person()\n",
    "print(person1.x)#acces the attribute"
   ]
  },
  {
   "cell_type": "markdown",
   "metadata": {},
   "source": [
    "# Excerise 2\n",
    "\n",
    "Create a class called `Student` with  the following attributes \n",
    "<br>`first_name`\n",
    "<br>`last_name`\n",
    "<br>`age`\n",
    "<br>`hw_grades` \n",
    "# `THINK ABOUT WHAT DATA STRUCTURE WE SHOULD BE USING FOR HW GRADES`\n",
    "# `THINK ABOUT THE DATA STRUCTURES WE KNOW. WHAT SEEMS APPROPRIATE? LISTS, DICTS, TUPLES OR SETS?`\n",
    "\n",
    "Create methods that:\n",
    "<br>Print the full name of the student\n",
    "<br>Adds a grade to the attribute `hw_grades` \n",
    "<br>Calculates the Student's average hw grade\n",
    "\n",
    "Create an instance of the class and ensure that all the methods works."
   ]
  },
  {
   "cell_type": "code",
   "execution_count": 4,
   "metadata": {},
   "outputs": [],
   "source": [
    "class student:\n",
    "  def __init__(self, first_name,last_name,age):\n",
    "    self.first_name = first_name\n",
    "    self.last_name = last_name\n",
    "    self.age = age\n",
    "    self.hw_grades = []\n",
    "    self.sum_grades = 0\n",
    "    self.total_grades = 0\n",
    "\n",
    "\n",
    "  def print_fullname(self):\n",
    "    full_name = self.first_name + \" \" + self.last_name\n",
    "    print(\"Full Name is: \", full_name)\n",
    "    # return full_name\n",
    "    #print(f\"{self.first_name} {self.last_name}\")\n",
    "\n",
    "  def add_grades(self,grade):\n",
    "    self.hw_grades.append(grade)\n",
    "    # total=sum(self.sum_grades)\n",
    "    # self.total_grades +=1\n",
    "    # return self.hw_grades\n",
    "\n",
    "  def avg_grade(self):\n",
    "    total_points = sum(self.hw_grades)\n",
    "    average = total_points/len(self.hw_grades)\n",
    "    return average\n",
    "\n",
    "  # def average(self):\n",
    "  #   for val in self.hw_grades.values():\n",
    "  #     self.sum_grades += val\n",
    "  #   string = \"You're average grade is: \" + str(self.sum_grades / self.total_grades) \n",
    "  #   return string\n"
   ]
  },
  {
   "cell_type": "code",
   "execution_count": 12,
   "metadata": {},
   "outputs": [
    {
     "name": "stdout",
     "output_type": "stream",
     "text": [
      "Full Name is: \n",
      "Linqing Zhu\n"
     ]
    },
    {
     "data": {
      "text/plain": [
       "85.0"
      ]
     },
     "execution_count": 12,
     "metadata": {},
     "output_type": "execute_result"
    }
   ],
   "source": [
    "s1=student(\"Linqing\",\"Zhu\",20)\n",
    "s1.add_grades(80)\n",
    "s1.add_grades(85)\n",
    "s1.add_grades(90)\n",
    "print(s1.print_fullname())\n",
    "s1.avg_grade()"
   ]
  },
  {
   "cell_type": "code",
   "execution_count": null,
   "metadata": {},
   "outputs": [],
   "source": [
    "class Student():\n",
    "    def __init__(self, first_name, last_name, age):\n",
    "        self.first_name=first_name\n",
    "        self.last_name=last_name\n",
    "        self.age=age\n",
    "        self.hw_grades=[]\n",
    "    \n",
    "    def __str__():\n",
    "        \n",
    "        "
   ]
  },
  {
   "cell_type": "markdown",
   "metadata": {},
   "source": [
    "# Exercise 3:\n",
    "Create a class called `Square` that overloads the addition operator by adding the area of two squares. You will need at least an attribute for length, a method for calculating area and the overloaded + operator method.\n",
    "\n",
    "e.g. Square(3) + Square(4) == 25"
   ]
  },
  {
   "cell_type": "code",
   "execution_count": 54,
   "metadata": {},
   "outputs": [
    {
     "name": "stdout",
     "output_type": "stream",
     "text": [
      "Total area:  25\n",
      "None\n"
     ]
    }
   ],
   "source": [
    "class Square():\n",
    "    def __init__(self, length):\n",
    "        self.length=length\n",
    "        self.area=length*length\n",
    "        self.total=0\n",
    "    \n",
    "    def __add__(self,other):\n",
    "        self.total=self.area+other.area\n",
    "        print('Total area: ', self.total)\n",
    "\n",
    "    # def __str__(self): 1) how to make it into this one?\n",
    "    #     return f\"Total area: {self.total}\"\n",
    "    #     string=f\"area of two square is: {self.total}\"\n",
    "    #     print(string)\n",
    "        # return \"{self.area}\".format(self.area)\n",
    "\n",
    "        #more to do, how to make the area to a new function\n",
    "\n",
    "s1=Square(3)\n",
    "s2=Square(4)\n",
    "print(s1+s2)"
   ]
  },
  {
   "cell_type": "markdown",
   "metadata": {},
   "source": [
    "\n",
    "# Exercise 4:\n",
    "Create a class called `Store` with an attribute called `inventory` that stores key value pairs which represent a product and its count.\n",
    "<br> `{\"oranges\":100,'apples':20}`\n",
    "\n",
    "Create a `buy` method that decrements from a key's value whenever an item is \"bought\"\n",
    "\n",
    "Create a method that lists the products for sale.\n",
    "<br>Create a method that allows you to add more products to the store's inventory.\n",
    "\n",
    "\n",
    "When you're finished, create an instance of Store and demonstrate that your methods/code work. Bonus points for addtional methods/functionality."
   ]
  },
  {
   "cell_type": "code",
   "execution_count": 56,
   "metadata": {},
   "outputs": [
    {
     "name": "stdout",
     "output_type": "stream",
     "text": [
      "apple\n",
      "grapes\n",
      "None\n",
      "The remaining product apple and the amount left 100\n",
      "The remaining product grapes and the amount left 600\n",
      "None\n"
     ]
    }
   ],
   "source": [
    "class Store:\n",
    "  def __init__(self):\n",
    "    self.inventory = {}\n",
    "\n",
    "  def list_products(self):\n",
    "    for i in self.inventory.keys():\n",
    "      print(i)\n",
    "\n",
    "  def add_inventory(self, product, amount):\n",
    "    self.inventory[product] = amount\n",
    "\n",
    "  def buy(self,product, amount):\n",
    "    if amount < self.inventory[product]:\n",
    "      self.inventory[product] -= amount\n",
    "      print(f'You just purchesed {amount} units of {product}')\n",
    "    else:\n",
    "      raise ValueError(\"Not enough in stock\")\n",
    "    \n",
    "  def remaining(self):\n",
    "      for key,value in self.inventory.items():\n",
    "          print(f\"The remaining product {key} and the amount left {value}\")\n",
    "\n",
    "p1=Store()\n",
    "p1.add_inventory(\"apple\", 100)\n",
    "p1.add_inventory(\"grapes\", 600)\n",
    "print(p1.list_products())\n",
    "print(p1.remaining())"
   ]
  }
 ],
 "metadata": {
  "interpreter": {
   "hash": "9386cb60cf22cf10c4a4b8d8aaf5613a1e19924e3b8b77c246876dc6579ff7fe"
  },
  "kernelspec": {
   "display_name": "Python 3.9.5 64-bit",
   "name": "python3"
  },
  "language_info": {
   "codemirror_mode": {
    "name": "ipython",
    "version": 3
   },
   "file_extension": ".py",
   "mimetype": "text/x-python",
   "name": "python",
   "nbconvert_exporter": "python",
   "pygments_lexer": "ipython3",
   "version": "3.9.5"
  }
 },
 "nbformat": 4,
 "nbformat_minor": 4
}
